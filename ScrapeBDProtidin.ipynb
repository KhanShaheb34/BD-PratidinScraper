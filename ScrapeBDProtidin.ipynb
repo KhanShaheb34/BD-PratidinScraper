{
  "nbformat": 4,
  "nbformat_minor": 0,
  "metadata": {
    "colab": {
      "name": "ScrapeBDProtidin",
      "provenance": [],
      "collapsed_sections": [],
      "authorship_tag": "ABX9TyNIoJcOt81mvt3RlN2fOTZZ",
      "include_colab_link": true
    },
    "kernelspec": {
      "name": "python3",
      "display_name": "Python 3"
    }
  },
  "cells": [
    {
      "cell_type": "markdown",
      "metadata": {
        "id": "view-in-github",
        "colab_type": "text"
      },
      "source": [
        "<a href=\"https://colab.research.google.com/github/KhanShaheb34/BD-ProtidinScraper/blob/master/ScrapeBDProtidin.ipynb\" target=\"_parent\"><img src=\"https://colab.research.google.com/assets/colab-badge.svg\" alt=\"Open In Colab\"/></a>"
      ]
    },
    {
      "cell_type": "code",
      "metadata": {
        "id": "me74CKUr7exw",
        "colab_type": "code",
        "colab": {}
      },
      "source": [
        "import bs4\n",
        "import requests\n",
        "import os\n",
        "import pandas as pd\n",
        "import re"
      ],
      "execution_count": 26,
      "outputs": []
    },
    {
      "cell_type": "code",
      "metadata": {
        "id": "_djSk_Kp7j5Z",
        "colab_type": "code",
        "colab": {}
      },
      "source": [
        "def getCategoriesFromDate(date):\n",
        "  url = f\"https://www.bd-pratidin.com/archive/{date}\"\n",
        "  page = requests.get(url)\n",
        "  soup = bs4.BeautifulSoup(page.content, \"html.parser\").find(\"div\", {\"class\": \"container-left-area printversion col-md-9\"})\n",
        "  categories = set()\n",
        "\n",
        "  for a in soup.findAll(\"a\", {\"href\": re.compile(r\"^[a-z-]+\\/\\d+\\/\\d+\\/\\d+\")}):\n",
        "    categories.add(a[\"href\"].split(\"/\")[0])\n",
        "\n",
        "  return list(categories)"
      ],
      "execution_count": 51,
      "outputs": []
    },
    {
      "cell_type": "code",
      "metadata": {
        "id": "u0VnAANoTKlw",
        "colab_type": "code",
        "colab": {}
      },
      "source": [
        "def getNewsFromCategoryAndDate(category, date):\n",
        "  url = f\"https://www.bd-pratidin.com/{category}/{date}\"\n",
        "  page = requests.get(url)\n",
        "  soup = bs4.BeautifulSoup(page.content, \"html.parser\").find(\"div\", {\"class\": \"container-left-area col-md-9\"})\n",
        "  newsLinks = []\n",
        "\n",
        "  for a in soup.findAll(\"a\", {\"href\": re.compile(r\"^[a-z-]+\\/\\d+\\/\\d+\\/\\d+\\/\\d+$\")}):\n",
        "    newsLinks.append(a[\"href\"])\n",
        "\n",
        "  return newsLinks"
      ],
      "execution_count": 60,
      "outputs": []
    },
    {
      "cell_type": "code",
      "metadata": {
        "id": "Ehc4rv40ZQ4N",
        "colab_type": "code",
        "colab": {}
      },
      "source": [
        "def getNewsFromLink(link):\n",
        "  url = f\"https://www.bd-pratidin.com/{link}\"\n",
        "  page = requests.get(url)\n",
        "  soup = bs4.BeautifulSoup(page.content, \"html.parser\")\n",
        "\n",
        "  title = soup.find(\"h1\", {\"class\":\"post-title\"}).text.strip()\n",
        "  description = soup.find(\"meta\", {\"property\":\"og:description\"})[\"content\"].strip()\n",
        "  category = link.split(\"/\")[0]\n",
        "  id = int(link.split(\"/\")[4])\n",
        "  date = \"/\".join(link.split(\"/\")[1:4])\n",
        "\n",
        "  articleSoup = soup.find(\"article\")\n",
        "  article = \"\"\n",
        "  for p in articleSoup.findAll(\"p\"):\n",
        "    article += p.text\n",
        "\n",
        "  return {\"id\": id, \"title\": title, \"description\": description, \"category\": category, \"date\": date, \"article\": article}"
      ],
      "execution_count": 86,
      "outputs": []
    },
    {
      "cell_type": "code",
      "metadata": {
        "id": "zjyTiNPCebKv",
        "colab_type": "code",
        "colab": {
          "base_uri": "https://localhost:8080/",
          "height": 419
        },
        "outputId": "5d29e988-d3aa-464f-b997-e411c178d3b7"
      },
      "source": [
        "date = \"2020/07/07\"                       # Change this date to get data from any date.\n",
        "categories = getCategoriesFromDate(date)\n",
        "newsLinks = []\n",
        "\n",
        "for category in categories:\n",
        "  newsLinks += getNewsFromCategoryAndDate(category, date)\n",
        "\n",
        "news = []\n",
        "for link in newsLinks:\n",
        "  news.append(getNewsFromLink(link))\n",
        "\n",
        "newsDataframe = pd.DataFrame(news)\n",
        "newsDataframe"
      ],
      "execution_count": 87,
      "outputs": [
        {
          "output_type": "execute_result",
          "data": {
            "text/html": [
              "<div>\n",
              "<style scoped>\n",
              "    .dataframe tbody tr th:only-of-type {\n",
              "        vertical-align: middle;\n",
              "    }\n",
              "\n",
              "    .dataframe tbody tr th {\n",
              "        vertical-align: top;\n",
              "    }\n",
              "\n",
              "    .dataframe thead th {\n",
              "        text-align: right;\n",
              "    }\n",
              "</style>\n",
              "<table border=\"1\" class=\"dataframe\">\n",
              "  <thead>\n",
              "    <tr style=\"text-align: right;\">\n",
              "      <th></th>\n",
              "      <th>id</th>\n",
              "      <th>title</th>\n",
              "      <th>description</th>\n",
              "      <th>category</th>\n",
              "      <th>date</th>\n",
              "      <th>article</th>\n",
              "    </tr>\n",
              "  </thead>\n",
              "  <tbody>\n",
              "    <tr>\n",
              "      <th>0</th>\n",
              "      <td>545955</td>\n",
              "      <td>আজকের ভাগ্যচক্র</td>\n",
              "      <td>আজকের এই দিনে জন্মগ্রহণ করায় পাশ্চাত্যমতে আপনি...</td>\n",
              "      <td>horoscope</td>\n",
              "      <td>2020/07/07</td>\n",
              "      <td>আজকের এই দিনে জন্মগ্রহণ করায় পাশ্চাত্যমতে আপন...</td>\n",
              "    </tr>\n",
              "    <tr>\n",
              "      <th>1</th>\n",
              "      <td>545977</td>\n",
              "      <td>কর্পোরেট কর্নার</td>\n",
              "      <td>দেশীয় স্বর্ণ শিল্পের বিকাশ ও রপ্তানি বাণিজ্য স...</td>\n",
              "      <td>money-market-business</td>\n",
              "      <td>2020/07/07</td>\n",
              "      <td>দেশীয় স্বর্ণ শিল্পের বিকাশ ও রপ্তানি বাণিজ্য ...</td>\n",
              "    </tr>\n",
              "    <tr>\n",
              "      <th>2</th>\n",
              "      <td>546001</td>\n",
              "      <td>হঠাৎ প্রিয় মাঠে মুশফিক</td>\n",
              "      <td>মিরপুর বরাবরই প্রিয় মাঠ মুশফিকের। টেস্ট ক্রিকে...</td>\n",
              "      <td>sport-news</td>\n",
              "      <td>2020/07/07</td>\n",
              "      <td>মিরপুর বরাবরই প্রিয় মাঠ মুশফিকের। টেস্ট ক্রিক...</td>\n",
              "    </tr>\n",
              "    <tr>\n",
              "      <th>3</th>\n",
              "      <td>546002</td>\n",
              "      <td>অবশেষে বার্সার জয়</td>\n",
              "      <td>স্প্যানিশ লা লিগায় টানা দুই ম্যাচে পয়েন্ট হারি...</td>\n",
              "      <td>sport-news</td>\n",
              "      <td>2020/07/07</td>\n",
              "      <td>স্প্যানিশ লা লিগায় টানা দুই ম্যাচে পয়েন্ট হার...</td>\n",
              "    </tr>\n",
              "    <tr>\n",
              "      <th>4</th>\n",
              "      <td>546003</td>\n",
              "      <td>অনুদান না অপমান?</td>\n",
              "      <td>কেউ রিকশা চালাচ্ছেন। কেউবা ভ্যানে ফল ও সবজি বি...</td>\n",
              "      <td>sport-news</td>\n",
              "      <td>2020/07/07</td>\n",
              "      <td>কেউ রিকশা চালাচ্ছেন। কেউবা ভ্যানে ফল ও সবজি ব...</td>\n",
              "    </tr>\n",
              "    <tr>\n",
              "      <th>...</th>\n",
              "      <td>...</td>\n",
              "      <td>...</td>\n",
              "      <td>...</td>\n",
              "      <td>...</td>\n",
              "      <td>...</td>\n",
              "      <td>...</td>\n",
              "    </tr>\n",
              "    <tr>\n",
              "      <th>128</th>\n",
              "      <td>546078</td>\n",
              "      <td>সীমান্তের সেনা প্রত্যাহারে ভারত-চীন ঐকমত্য</td>\n",
              "      <td>ভারত-চীন সীমান্ত সংঘর্ষ বন্ধে দুই দেশের মধ্যে ...</td>\n",
              "      <td>last-page</td>\n",
              "      <td>2020/07/07</td>\n",
              "      <td>ভারত-চীন সীমান্ত সংঘর্ষ বন্ধে দুই দেশের মধ্যে...</td>\n",
              "    </tr>\n",
              "    <tr>\n",
              "      <th>129</th>\n",
              "      <td>546079</td>\n",
              "      <td>হজে এবার কালো পাথরে চুমু দেওয়া বন্ধ</td>\n",
              "      <td>করোনাভাইরাস মহামারীর কারণে এবার সীমিত পরিসরে হ...</td>\n",
              "      <td>last-page</td>\n",
              "      <td>2020/07/07</td>\n",
              "      <td>করোনাভাইরাস মহামারীর কারণে এবার সীমিত পরিসরে ...</td>\n",
              "    </tr>\n",
              "    <tr>\n",
              "      <th>130</th>\n",
              "      <td>546080</td>\n",
              "      <td>প্রবাসীদের ইকামা ও ভিসার মেয়াদ ৩ মাস বাড়াল সৌদি</td>\n",
              "      <td>সৌদি প্রবাসীদের মধ্যে যাদের বসবাসের অনুমতির (ই...</td>\n",
              "      <td>last-page</td>\n",
              "      <td>2020/07/07</td>\n",
              "      <td>সৌদি প্রবাসীদের মধ্যে যাদের বসবাসের অনুমতির (...</td>\n",
              "    </tr>\n",
              "    <tr>\n",
              "      <th>131</th>\n",
              "      <td>546081</td>\n",
              "      <td>পুলিশি নির্যাতনে কিডনি নষ্টের বিচার বিভাগীয় তদ...</td>\n",
              "      <td>যশোরে পুলিশের হাতে নির্মম নির্যাতনের কারণে ইমর...</td>\n",
              "      <td>last-page</td>\n",
              "      <td>2020/07/07</td>\n",
              "      <td>যশোরে পুলিশের হাতে নির্মম নির্যাতনের কারণে ইম...</td>\n",
              "    </tr>\n",
              "    <tr>\n",
              "      <th>132</th>\n",
              "      <td>546082</td>\n",
              "      <td>কোকোপিটের সাহায্যে সবজির চারা উৎপাদন</td>\n",
              "      <td>বিশেষ পদ্ধতিতে কোকোপিটের সাহায্যে মিডিয়া দ্বার...</td>\n",
              "      <td>last-page</td>\n",
              "      <td>2020/07/07</td>\n",
              "      <td>বিশেষ পদ্ধতিতে কোকোপিটের সাহায্যে মিডিয়া দ্বা...</td>\n",
              "    </tr>\n",
              "  </tbody>\n",
              "</table>\n",
              "<p>133 rows × 6 columns</p>\n",
              "</div>"
            ],
            "text/plain": [
              "         id  ...                                            article\n",
              "0    545955  ...   আজকের এই দিনে জন্মগ্রহণ করায় পাশ্চাত্যমতে আপন...\n",
              "1    545977  ...   দেশীয় স্বর্ণ শিল্পের বিকাশ ও রপ্তানি বাণিজ্য ...\n",
              "2    546001  ...   মিরপুর বরাবরই প্রিয় মাঠ মুশফিকের। টেস্ট ক্রিক...\n",
              "3    546002  ...   স্প্যানিশ লা লিগায় টানা দুই ম্যাচে পয়েন্ট হার...\n",
              "4    546003  ...   কেউ রিকশা চালাচ্ছেন। কেউবা ভ্যানে ফল ও সবজি ব...\n",
              "..      ...  ...                                                ...\n",
              "128  546078  ...   ভারত-চীন সীমান্ত সংঘর্ষ বন্ধে দুই দেশের মধ্যে...\n",
              "129  546079  ...   করোনাভাইরাস মহামারীর কারণে এবার সীমিত পরিসরে ...\n",
              "130  546080  ...   সৌদি প্রবাসীদের মধ্যে যাদের বসবাসের অনুমতির (...\n",
              "131  546081  ...   যশোরে পুলিশের হাতে নির্মম নির্যাতনের কারণে ইম...\n",
              "132  546082  ...   বিশেষ পদ্ধতিতে কোকোপিটের সাহায্যে মিডিয়া দ্বা...\n",
              "\n",
              "[133 rows x 6 columns]"
            ]
          },
          "metadata": {
            "tags": []
          },
          "execution_count": 87
        }
      ]
    }
  ]
}